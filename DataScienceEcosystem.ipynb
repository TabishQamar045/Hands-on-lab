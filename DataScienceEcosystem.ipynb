{
 "cells": [
  {
   "cell_type": "markdown",
   "id": "4c1a2267-9782-42a0-8cce-63027e7f203d",
   "metadata": {},
   "source": [
    "# Data Science Tools and Ecosystem"
   ]
  },
  {
   "cell_type": "markdown",
   "id": "c8e4ae56-f632-4832-a5cc-bd50afc7aca8",
   "metadata": {},
   "source": [
    "# In this notebook, Data Science Tools and Ecosystem are summarized."
   ]
  },
  {
   "cell_type": "markdown",
   "id": "d021cae6-a09c-44e5-a034-177404f5a060",
   "metadata": {},
   "source": [
    "# Some of the popular languages that Data Scientists use are:"
   ]
  },
  {
   "cell_type": "markdown",
   "id": "e2b01e08-a776-42c7-87f2-dd621cae0d27",
   "metadata": {},
   "source": [
    "1. Python\n",
    "2. Java\n",
    "3. R\n",
    "4. Scala"
   ]
  },
  {
   "cell_type": "markdown",
   "id": "d768b845-453d-47b2-9766-5240959340a7",
   "metadata": {},
   "source": [
    "# Some of the commonly used libraries used by Data Scientists include:"
   ]
  },
  {
   "cell_type": "markdown",
   "id": "30998c99-5c09-477c-a67a-1b1bcc09b05b",
   "metadata": {},
   "source": [
    "1. pandas\n",
    "2. numpy\n",
    "3. Scikitlearn\n",
    "4. nltk\n",
    "5. matplotlib"
   ]
  },
  {
   "cell_type": "markdown",
   "id": "01eef0f2-2fe4-4789-a7f9-ea0589db4af0",
   "metadata": {},
   "source": [
    "| Data Science Tools  |\n",
    "|-------------------- |\n",
    "| Jupyter Notebook    |\n",
    "| RStudio             |\n",
    "| Spyder              |\n"
   ]
  },
  {
   "cell_type": "markdown",
   "id": "662ae23b-fd68-497d-b13b-e702a78447c6",
   "metadata": {},
   "source": [
    "### Below are a few examples of evaluating arithmetic expressions in Python"
   ]
  },
  {
   "cell_type": "code",
   "execution_count": 13,
   "id": "599d464d-8fe8-498e-8323-7df1c69265ec",
   "metadata": {},
   "outputs": [
    {
     "data": {
      "text/plain": [
       "17"
      ]
     },
     "execution_count": 13,
     "metadata": {},
     "output_type": "execute_result"
    }
   ],
   "source": [
    "#This a simple arithmetic expression to mutiply then add integers\n",
    "(3*4)+5"
   ]
  },
  {
   "cell_type": "code",
   "execution_count": 17,
   "id": "a89a3fd7-430d-4884-a215-a426216e7dcd",
   "metadata": {},
   "outputs": [
    {
     "data": {
      "text/plain": [
       "3.3333333333333335"
      ]
     },
     "execution_count": 17,
     "metadata": {},
     "output_type": "execute_result"
    }
   ],
   "source": [
    "#This will convert 200 minutes to hours by diving by 60.\n",
    "200/60\n"
   ]
  },
  {
   "cell_type": "markdown",
   "id": "3066774b-f610-47d4-9875-2bc8a629678b",
   "metadata": {},
   "source": [
    "# Objectives:"
   ]
  },
  {
   "cell_type": "markdown",
   "id": "b8f75f4a-4fb9-4d5a-a3a0-9cea4b84dc65",
   "metadata": {},
   "source": [
    "* Python\n",
    "* Rstudio\n",
    "* R \n",
    "* Data Science libraries\n",
    "* Tools for Data Science"
   ]
  },
  {
   "cell_type": "code",
   "execution_count": null,
   "id": "3ce7e8cb-99ac-4358-8a54-ebf7bc69432f",
   "metadata": {},
   "outputs": [],
   "source": [
    "# Author:"
   ]
  }
 ],
 "metadata": {
  "kernelspec": {
   "display_name": "Python 3 (ipykernel)",
   "language": "python",
   "name": "python3"
  },
  "language_info": {
   "codemirror_mode": {
    "name": "ipython",
    "version": 3
   },
   "file_extension": ".py",
   "mimetype": "text/x-python",
   "name": "python",
   "nbconvert_exporter": "python",
   "pygments_lexer": "ipython3",
   "version": "3.12.7"
  }
 },
 "nbformat": 4,
 "nbformat_minor": 5
}
